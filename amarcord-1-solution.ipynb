{
 "cells": [
  {
   "cell_type": "markdown",
   "metadata": {},
   "source": [
    "## Amarcord Proposal\n",
    "Authors: Kevin Chang, Hariz Mohd Rani Hisham, Bharati Malik, Rithumbra Sagar"
   ]
  },
  {
   "cell_type": "markdown",
   "metadata": {},
   "source": [
    "What we know:\n",
    "- Bank\n",
    "- AML COO worried about current tx monitoring platform not up to modern requirements\n",
    "- x transact w/ FATF blacklist; monitors CIBs and MSBs tightly\n",
    "- competing banks may get ahead in predictive analytics\n",
    "    - can't lose out to the competition\n",
    "\n",
    "BAU methodology for flagging suspicious tx:\n",
    "- customer tx'ing habits are predictable\n",
    "- data needs to be streamed in real-time\n",
    "    - fraudulent injections occur suddenly\n",
    "- typical behavior is used as benchmark against future incoming tx's\n",
    "- if a customer has been flagged in the past, bank monitors account closer\n",
    "\n",
    "Important nerdy stuff:\n",
    "- model continuously updates\n",
    "- past flags increase likelihood of fraudulent tx being true positive\n",
    "- false positives are ok, but might damage reputation with customers\n",
    "- false negatives are expensive\n",
    "    - i.e. we want to minimize likelihood of true fraud by minimizing false negatives\n",
    "    \n",
    "To do:\n",
    "- present business problem\n",
    "- propose how we will build detection model\n",
    "    - deep-dive into data the bank has provided us\n",
    "        - as Step -1, clean the data so its useful\n",
    "    - determine what additional data we need\n",
    "    - determine implementation of model\n",
    "        - real-time data streaming + auto flag OR historical audit?\n",
    "    - come up with benchmarks we can use to measure legitimacy of transactions\n",
    "        - e.g. if a tx falls within alpha < 0.05, should it be flagged?\n",
    "    - universal model VS per customer model\n",
    "        - cheap or expensive?"
   ]
  },
  {
   "cell_type": "code",
   "execution_count": null,
   "metadata": {},
   "outputs": [],
   "source": []
  }
 ],
 "metadata": {
  "kernelspec": {
   "display_name": "Python 3",
   "language": "python",
   "name": "python3"
  },
  "language_info": {
   "codemirror_mode": {
    "name": "ipython",
    "version": 3
   },
   "file_extension": ".py",
   "mimetype": "text/x-python",
   "name": "python",
   "nbconvert_exporter": "python",
   "pygments_lexer": "ipython3",
   "version": "3.7.4"
  }
 },
 "nbformat": 4,
 "nbformat_minor": 2
}
